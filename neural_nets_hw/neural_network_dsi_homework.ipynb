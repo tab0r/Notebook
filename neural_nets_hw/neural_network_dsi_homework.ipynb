{
 "cells": [
  {
   "cell_type": "markdown",
   "metadata": {},
   "source": [
    "Neural Network homework\n",
    "=======================\n",
    "As we have only a day to talk about a very useful, and different, machine learning algorithm I'd like to make sure you come in Wednesday having already implemented the basic ideas behind neural networks.  To that end, you are assigned two things (one is optional), **due Wednesday morning by 9 am**:\n",
    "1.  **Required**: This notebook, but with the empty cells filled-in to answer the questions provided.\n",
    "2.  **Optional**: A separate script, `neural_network_hw.py`, that uses a small neural network to simulate an [XOR gate](https://en.wikipedia.org/wiki/XOR_gate).  Other than `numpy`, you'll use no external libraries.  There'll be more directions at the end of this notebook about what is expected in this script.  If you want to potentially use neural networks in your capstone, you should do this second part.  \n",
    "\n",
    "To submit your homework, put your completed jupyter notebook and (possibly your completed script) in a folder named *firstname_lastname* (that's your first and last names, by the way), **zip it**, and Slack it to me.  I encourage you to treat this as an individual assignment, but feel free to discuss details with the instructors and your peers.  \n",
    "\n",
    "This homework relies heavily on three readings that are meant to help you understand and complete it:\n",
    "* [DL4J's Introduction to Deep Neural Networks Overview](https://deeplearning4j.org/neuralnet-overview)\n",
    "* [Carnegie Mellon's C.S. lecture: \"Neural Networks: A Simple Problem\"](https://www.cs.cmu.edu/afs/cs.cmu.edu/academic/class/15381-s06/www/nn.pdf)\n",
    "* [i am trask's \"Neural Network in 11 lines of Python\"](https://iamtrask.github.io/2015/07/12/basic-python-network/)\n",
    "\n",
    "The objectives of this notebook are to:\n",
    "1. Introduce neural networks through a machine learning algorithm you already know: linear regression.\n",
    "2. Introduce the neuron as the computational unit of neural networks.\n",
    "3. During the training phase in a simple neural network, feed a signal forward through the network to make a prediction.  (this is **feed forward calculation**)\n",
    "4. After calculating the prediction error, use partial derivatives and the chain rule to calculate the changes to the weights required to decrease the training error. (this is **back propogation**) Then repeat feed-forward and back propogation until the residuals are minimized so that the weights are finally trained.  Once the weights are trained, the model can now predict on new data.\n",
    "5. Extrapolate feed-forward and back-propogation to a classification problem.\n",
    "6. Introduce multi-layer networks.\n",
    "7. In the optional `neural_network_hw.py` script, implement a multi-layer neural network to solve the [XOR problem](https://en.wikipedia.org/wiki/Perceptrons_%28book%29#The_XOR_affair), which contributed to an [A.I. Winter.](https://en.wikipedia.org/wiki/AI_winter)\n",
    "\n",
    "There are side objectives too:  practicing your [Markdown](http://daringfireball.net/projects/markdown/basics), embedding equations in a jupyter notebook with [MathJax](https://cdn.mathjax.org/mathjax/latest/test/examples.html), practicing [partial differential equations](https://www.khanacademy.org/math/multivariable-calculus/multivariable-derivatives/partial-derivatives/v/partial-derivatives-introduction), practicing the [chain rule](https://www.khanacademy.org/math/ap-calculus-ab/product-quotient-chain-rules-ab/chain-rule-ab/v/chain-rule-introduction), and of course ... [plotting](http://matplotlib.org/examples/)!\n",
    "\n",
    "Ok. Let's begin.  Obviously you can add cells in a section if you need it."
   ]
  },
  {
   "cell_type": "code",
   "execution_count": 1,
   "metadata": {
    "collapsed": false
   },
   "outputs": [],
   "source": [
    "# imports\n",
    "import numpy as np\n",
    "import matplotlib as mpl\n",
    "import matplotlib.pyplot as plt\n",
    "%matplotlib inline\n",
    "mpl.rcParams.update({'font.size': 14})"
   ]
  },
  {
   "cell_type": "code",
   "execution_count": 136,
   "metadata": {
    "collapsed": true
   },
   "outputs": [],
   "source": [
    "# Raw data\n",
    "X = np.array([0.5, 2.5, 2.6, 3.5, 4.6, 4.8, 5, 6.2, 7.4, 8.1, 8.3, 9.2, 9.7])\n",
    "y = np.array([4.6, 7.4, 5.7, 11.6, 11.0, 13.0, 11.9, 15.0, 19.0, 16.9, 19.1, 21.9, 21.3])"
   ]
  },
  {
   "cell_type": "code",
   "execution_count": 5,
   "metadata": {
    "collapsed": false
   },
   "outputs": [
    {
     "data": {
      "image/png": "[encoded data removed]",
      "text/plain": [
       "<matplotlib.figure.Figure at 0x7f597a3fc550>"
      ]
     },
     "metadata": {},
     "output_type": "display_data"
    }
   ],
   "source": [
    "# Plot data\n",
    "fig, ax = plt.subplots(figsize=(6,4))\n",
    "ax.plot(X, y, 'bo', label = 'data')\n",
    "ax.set_xlabel('X', fontsize = 14) \n",
    "ax.set_ylabel('y', fontsize = 14)\n",
    "ax.set_xlim([0, 10])\n",
    "ax.set_ylim([0, 23])\n",
    "fig.suptitle('Raw data', fontsize = 14)\n",
    "fig.tight_layout(pad=2);"
   ]
  },
  {
   "cell_type": "markdown",
   "metadata": {},
   "source": [
    "Let's predict **y** as function of **X**.  Let's not use regularization, but rather solve this linear regression using the closed form solution we know: ![least_squares](images/least_squares.png)  \n",
    "However, we can agree that this equation is pixelated and hard to read.  Redo this equation using Markdown and MathJax in the cell below.  Some excellent examples of what MathJax can do can be found [here](https://cdn.mathjax.org/mathjax/latest/test/sample.html) and you can see the MathJax code by viewing the source code in your browser (type in  `view-source:https://cdn.mathjax.org/mathjax/latest/test/sample.html` to the browser address window if you can't figure that out.)"
   ]
  },
  {
   "cell_type": "markdown",
   "metadata": {},
   "source": [
    "#### Question 1: Redo the least squares closed form algebraic equation.  Some starter code is given below (double click on this cell.)\n",
    "\n",
    "$$\n",
    "\\theta = (X^T X)^{-1}X^T \\vec{y}\n",
    "$$"
   ]
  },
  {
   "cell_type": "markdown",
   "metadata": {},
   "source": [
    "#### Question 2: Use numpy to solve for the $\\theta$ coefficients of your linear least squares problem.  Don't forget to add a column of 1s to X so that you get an intercept.  But instead of using $\\theta$ use $\\boldsymbol{w}$ (for weight).  What is the slope ($\\boldsymbol{w_1}$)?  What is the intercept ($\\boldsymbol{w_0})$?  Plot the regression versus the data using a red line."
   ]
  },
  {
   "cell_type": "code",
   "execution_count": 3,
   "metadata": {
    "collapsed": true
   },
   "outputs": [],
   "source": [
    "from numpy.linalg import inv"
   ]
  },
  {
   "cell_type": "code",
   "execution_count": 105,
   "metadata": {
    "collapsed": false
   },
   "outputs": [
    {
     "name": "stdout",
     "output_type": "stream",
     "text": [
      "The slope is: 1.96348168979\n",
      "The intercept is: 2.78799428149\n"
     ]
    }
   ],
   "source": [
    "X_train = np.vstack([np.ones(X.shape[0]), X])\n",
    "# get coefficients\n",
    "w = np.dot(inv(np.dot(X_train, X_train.T)), np.dot(y, X_train.T))\n",
    "print(\"The slope is:\",w[1])\n",
    "print(\"The intercept is:\",w[0])"
   ]
  },
  {
   "cell_type": "code",
   "execution_count": 9,
   "metadata": {
    "collapsed": false
   },
   "outputs": [
    {
     "data": {
      "image/png": "[encoded data removed]",
      "text/plain": [
       "<matplotlib.figure.Figure at 0x7f5978043cc0>"
      ]
     },
     "metadata": {},
     "output_type": "display_data"
    }
   ],
   "source": [
    "# Plot data and regression\n",
    "# Plot data\n",
    "fig, ax = plt.subplots(figsize=(6,4))\n",
    "x = np.linspace(X.min(), X.max(), 100)\n",
    "guess_0 = lambda x: w[0]+w[1]*x\n",
    "ax.plot(x, guess_0(x), label = 'first guess')\n",
    "ax.plot(X, y, 'bo', label = 'data')\n",
    "ax.set_xlabel('X', fontsize = 14) \n",
    "ax.set_ylabel('y', fontsize = 14)\n",
    "ax.set_xlim([0, 10])\n",
    "ax.set_ylim([0, 23])\n",
    "fig.suptitle('Raw data', fontsize = 14)\n",
    "fig.tight_layout(pad=2);"
   ]
  },
  {
   "cell_type": "markdown",
   "metadata": {},
   "source": [
    "Great.  So what's this have to do with neural networks?  We are going to use the simplest computation unit of a neural network, a linear neuron (a.k.a. node, neurode, unit), to calcuate the weights determined from the linear regression, and in the process demonstrate **feed forward** calculation and **back propogation**.\n",
    "\n",
    "Consider the following neuron ![simple_neuron](images/simple_neuron.png).\n",
    "\n",
    "Data ($\\boldsymbol{X}$) is flowing into this neuron through its *synapses* (otherwise known as weights).  From there the weighted data is summed: $w_0x_0$ + $w_1x_1$, (equivalently $\\boldsymbol{w} \\cdot \\boldsymbol{X}$, or $\\boldsymbol{w}^{T}\\boldsymbol{X}$).  Then this weighted sum is evaluated through an activation function, $\\boldsymbol{\\phi}$, to get prediction $y_p$.  For now, assume that the activation function only multiplies the sum by 1!  This makes this neuron a linear neuron and the calculation of $y_p$ very easy.\n",
    "\n",
    "To start forward calculations, assumptions need to be made about the starting values of the weights.  In modern neural nets, determining the proper initializations of the weights is an active area of research. Assume for now they were initialized according to a uniform distributions between -1 and 1, with $w_0$ = -0.5, and $w_1$ = 0.25.\n",
    "\n",
    "Note that $x_0$ and $x_1$ correspond to the two values associated with each row of $\\boldsymbol{X}$, where $\\boldsymbol{X}$ is:"
   ]
  },
  {
   "cell_type": "code",
   "execution_count": 5,
   "metadata": {
    "collapsed": false
   },
   "outputs": [
    {
     "name": "stdout",
     "output_type": "stream",
     "text": [
      "X (with a constant) is:\n",
      "   x0   x1\n",
      "[[ 1.   0.5]\n",
      " [ 1.   2.5]\n",
      " [ 1.   2.6]\n",
      " [ 1.   3.5]\n",
      " [ 1.   4.6]\n",
      " [ 1.   4.8]\n",
      " [ 1.   5. ]\n",
      " [ 1.   6.2]\n",
      " [ 1.   7.4]\n",
      " [ 1.   8.1]\n",
      " [ 1.   8.3]\n",
      " [ 1.   9.2]\n",
      " [ 1.   9.7]]\n"
     ]
    }
   ],
   "source": [
    "X_lsq = np.vstack([np.ones(len(X)), X]).T\n",
    "print(\"X (with a constant) is:\")\n",
    "print(\"   x0   x1\")\n",
    "print(X_lsq)"
   ]
  },
  {
   "cell_type": "markdown",
   "metadata": {},
   "source": [
    "#### Question 3:  With the assumed weights $w_0$ = -0.5, $w_1$ = 0.25 and the first row of $\\boldsymbol{X}$, what value of $y_p$ results from feed-forward calculation? (p.s. please don't make this hard)."
   ]
  },
  {
   "cell_type": "code",
   "execution_count": 6,
   "metadata": {
    "collapsed": false
   },
   "outputs": [
    {
     "data": {
      "text/plain": [
       "-0.375"
      ]
     },
     "execution_count": 6,
     "metadata": {},
     "output_type": "execute_result"
    }
   ],
   "source": [
    "X_lsq[0].dot(np.array([-0.5, 0.25]))"
   ]
  },
  {
   "cell_type": "markdown",
   "metadata": {},
   "source": [
    "Obviously a $y_p$ value of -0.375 is not near the first $y_{train}$ value of 4.6.  The weights need to be modified before they predict on the next value of y.  Corrections to the weights are applied in a process called **back propogation**.  In this process, partial derivates, the chain rule, and gradient descent are used to predict corrections for each of the weights before feed-forward calculation on the next training sample.\n",
    "\n",
    "Recall that the loss, or prediction error, for one prediction during training is\n",
    "$$\n",
    "E = \\frac{1}{2}(y_{train} - y_p)^2\n",
    "$$\n",
    "\n",
    "and the goal is to calculate $\\Delta w_0$ and $\\Delta w_1$, and where $y_p$ = $\\phi(w^{T}X)$.  Using **gradient descent** the change of weights can be approximated as: \n",
    "\n",
    "$$\n",
    "\\Delta w = - \\alpha \\frac{\\partial E}{\\partial w}\n",
    "$$\n",
    "\n",
    "and from the chain rule\n",
    "\n",
    "$$\n",
    "\\frac{\\partial E}{\\partial w} = \\frac{\\partial E}{\\partial \\phi} \\frac{\\partial \\phi}{\\partial w}\n",
    "$$\n",
    "\n",
    "where $\\phi$ is the activation function (multiplying by 1 in this case)."
   ]
  },
  {
   "cell_type": "code",
   "execution_count": 122,
   "metadata": {
    "collapsed": true
   },
   "outputs": [],
   "source": [
    "from sympy import *"
   ]
  },
  {
   "cell_type": "code",
   "execution_count": 146,
   "metadata": {
    "collapsed": false
   },
   "outputs": [],
   "source": [
    "E, y_train, y_p, x, w_0, w_1 = symbols('E y_train y_p x, w_0, w_1')"
   ]
  },
  {
   "cell_type": "code",
   "execution_count": 130,
   "metadata": {
    "collapsed": false
   },
   "outputs": [],
   "source": [
    "del w_0"
   ]
  },
  {
   "cell_type": "code",
   "execution_count": 147,
   "metadata": {
    "collapsed": false
   },
   "outputs": [
    {
     "data": {
      "text/plain": [
       "1.0*w_0 + 1.0*w_1*x - 1.0*y_train"
      ]
     },
     "execution_count": 147,
     "metadata": {},
     "output_type": "execute_result"
    }
   ],
   "source": [
    "y_p = x*w_1+w_0\n",
    "E = 0.5*(y_train - y_p)**2\n",
    "diff(E, w_0)"
   ]
  },
  {
   "cell_type": "code",
   "execution_count": 148,
   "metadata": {
    "collapsed": false
   },
   "outputs": [
    {
     "data": {
      "text/plain": [
       "-1.0*x*(-w_0 - w_1*x + y_train)"
      ]
     },
     "execution_count": 148,
     "metadata": {},
     "output_type": "execute_result"
    }
   ],
   "source": [
    "diff(E, w_1)"
   ]
  },
  {
   "cell_type": "markdown",
   "metadata": {},
   "source": [
    "#### Question 4:  Calculate by hand, and then express in MathJax in this cell, the equations that solve for $\\Delta w_0$ and $\\Delta w_1$.\n",
    "\n",
    "$$\n",
    "\\Delta w_0 = \\alpha(y-w_0 - w_1x_1)\n",
    "$$\n",
    "\n",
    "$$\n",
    "\\Delta w_1 = \\alpha x_1(y-w_0 - w_1x_1)\n",
    "$$\n",
    "\n",
    "Hint: first express the loss, $E$, as a function of $w$, then find the partial derivative of $E$ with respect to $w$.  Substitute in $x_0$ to for $x$ find $w_0$, and $x_1$ for $x$ to find $w_1$."
   ]
  },
  {
   "cell_type": "markdown",
   "metadata": {},
   "source": [
    "#### Question 5:  Use your $\\Delta w$ equations to back propogate changes to your weights for each row in your training set.  Just pass through your data set once.  Are your $w_0$ and $w_1$ values similar to those predicted by the linear regression?  What if you continue to cycle through your data set?  Are your weights converging to the linear regression values?  You will need to write a simulation to answer these questions.  For me, convergence was highly dependent on learning rate."
   ]
  },
  {
   "cell_type": "code",
   "execution_count": 110,
   "metadata": {
    "collapsed": false
   },
   "outputs": [
    {
     "name": "stdout",
     "output_type": "stream",
     "text": [
      "[ 2.78799428  1.96348169]\n"
     ]
    }
   ],
   "source": [
    "weights = w\n",
    "print(weights)"
   ]
  },
  {
   "cell_type": "code",
   "execution_count": 193,
   "metadata": {
    "collapsed": false
   },
   "outputs": [
    {
     "name": "stdout",
     "output_type": "stream",
     "text": [
      "[-0.5   0.25]\n"
     ]
    }
   ],
   "source": [
    "weights = np.array([-0.5, 0.25])\n",
    "n = len(y)\n",
    "print(weights)"
   ]
  },
  {
   "cell_type": "code",
   "execution_count": 196,
   "metadata": {
    "collapsed": false
   },
   "outputs": [
    {
     "name": "stdout",
     "output_type": "stream",
     "text": [
      "W:[-0.8841358  -2.31629696]\n",
      "W:[-0.88689039 -2.33487312]\n",
      "W:[-0.88965562 -2.35352254]\n",
      "W:[-0.89243152 -2.37224552]\n",
      "W:[-0.89521814 -2.39104235]\n",
      "W:[-0.89801553 -2.40991332]\n",
      "W:[-0.90082372 -2.42885873]\n",
      "W:[-0.90364276 -2.44787886]\n",
      "W:[-0.90647269 -2.46697401]\n",
      "W:[-0.90931355 -2.48614448]\n",
      "W:[-0.91216538 -2.50539056]\n",
      "W:[-0.91502824 -2.52471255]\n",
      "W:[-0.91790216 -2.54411076]\n",
      "W:[-0.92078718 -2.56358547]\n",
      "W:[-0.92368336 -2.583137  ]\n",
      "W:[-0.92659072 -2.60276565]\n",
      "W:[-0.92950933 -2.62247171]\n",
      "W:[-0.93243922 -2.6422555 ]\n",
      "W:[-0.93538044 -2.66211733]\n",
      "W:[-0.93833302 -2.68205749]\n",
      "W:[-0.94129703 -2.7020763 ]\n",
      "W:[-0.94427249 -2.72217407]\n",
      "W:[-0.94725946 -2.74235111]\n",
      "W:[-0.95025799 -2.76260773]\n",
      "W:[-0.95326811 -2.78294424]\n",
      "W:[-0.95628987 -2.80336097]\n",
      "W:[-0.95932333 -2.82385823]\n",
      "W:[-0.96236851 -2.84443632]\n",
      "W:[-0.96542548 -2.86509559]\n",
      "W:[-0.96849428 -2.88583633]\n",
      "W:[-0.97157496 -2.90665888]\n",
      "W:[-0.97466755 -2.92756356]\n",
      "W:[-0.97777211 -2.94855069]\n",
      "W:[-0.98088869 -2.96962059]\n",
      "W:[-0.98401733 -2.9907736 ]\n",
      "W:[-0.98715808 -3.01201004]\n",
      "W:[-0.99031099 -3.03333023]\n",
      "W:[-0.9934761  -3.05473452]\n",
      "W:[-0.99665347 -3.07622322]\n",
      "W:[-0.99984314 -3.09779668]\n",
      "W:[-1.00304517 -3.11945523]\n",
      "W:[-1.00625959 -3.1411992 ]\n",
      "W:[-1.00948646 -3.16302893]\n",
      "W:[-1.01272583 -3.18494476]\n",
      "W:[-1.01597774 -3.20694702]\n",
      "W:[-1.01924226 -3.22903607]\n",
      "W:[-1.02251941 -3.25121223]\n",
      "W:[-1.02580927 -3.27347586]\n",
      "W:[-1.02911187 -3.2958273 ]\n",
      "W:[-1.03242726 -3.31826689]\n",
      "W:[-1.03575551 -3.34079498]\n",
      "W:[-1.03909665 -3.36341193]\n",
      "W:[-1.04245074 -3.38611807]\n",
      "W:[-1.04581782 -3.40891377]\n",
      "W:[-1.04919796 -3.43179938]\n",
      "W:[-1.0525912  -3.45477525]\n",
      "W:[-1.05599759 -3.47784173]\n",
      "W:[-1.05941719 -3.50099919]\n",
      "W:[-1.06285005 -3.52424798]\n",
      "W:[-1.06629621 -3.54758847]\n",
      "W:[-1.06975574 -3.57102101]\n",
      "W:[-1.07322869 -3.59454596]\n",
      "W:[-1.0767151 -3.6181637]\n",
      "W:[-1.08021503 -3.64187458]\n",
      "W:[-1.08372853 -3.66567898]\n",
      "W:[-1.08725567 -3.68957727]\n",
      "W:[-1.09079648 -3.7135698 ]\n",
      "W:[-1.09435103 -3.73765696]\n",
      "W:[-1.09791937 -3.76183912]\n",
      "W:[-1.10150155 -3.78611666]\n",
      "W:[-1.10509763 -3.81048994]\n",
      "W:[-1.10870767 -3.83495934]\n",
      "W:[-1.11233171 -3.85952526]\n",
      "W:[-1.11596982 -3.88418805]\n",
      "W:[-1.11962204 -3.90894812]\n",
      "W:[-1.12328844 -3.93380584]\n",
      "W:[-1.12696907 -3.95876159]\n",
      "W:[-1.13066399 -3.98381577]\n",
      "W:[-1.13437325 -4.00896875]\n",
      "W:[-1.13809691 -4.03422094]\n",
      "W:[-1.14183502 -4.05957272]\n",
      "W:[-1.14558765 -4.08502448]\n",
      "W:[-1.14935485 -4.11057662]\n",
      "W:[-1.15313667 -4.13622953]\n",
      "W:[-1.15693319 -4.16198362]\n",
      "W:[-1.16074444 -4.18783927]\n",
      "W:[-1.1645705 -4.2137969]\n",
      "W:[-1.16841141 -4.2398569 ]\n",
      "W:[-1.17226725 -4.26601967]\n",
      "W:[-1.17613806 -4.29228563]\n",
      "W:[-1.18002391 -4.31865517]\n",
      "W:[-1.18392485 -4.34512871]\n",
      "W:[-1.18784095 -4.37170666]\n",
      "W:[-1.19177226 -4.39838943]\n",
      "W:[-1.19571885 -4.42517742]\n",
      "W:[-1.19968077 -4.45207107]\n",
      "W:[-1.20365809 -4.47907078]\n",
      "W:[-1.20765087 -4.50617696]\n",
      "W:[-1.21165916 -4.53339005]\n",
      "W:[-1.21568303 -4.56071046]\n"
     ]
    }
   ],
   "source": [
    "for i in range(100):\n",
    "    print(\"W:\"+str(weights))\n",
    "    for x_0, x_1, y_t in np.column_stack([X_lsq, y]):\n",
    "        alpha = 0.0001/n\n",
    "        w_0 = weights[0]\n",
    "        w_1 = weights[1]\n",
    "        prediction = w_0 + w_1*x_1 \n",
    "        w_0 -= alpha*(y_t-prediction)\n",
    "        w_1 -= alpha*x_1*(y_t-prediction)\n",
    "        weights = np.array([w_0, w_1])"
   ]
  },
  {
   "cell_type": "markdown",
   "metadata": {},
   "source": [
    "For classification problems a neuron with a linear activation function doesn't work well.  \n",
    "Additionally, neurons with solely linear behavior tend to be limited in their ability to learn non-linear features.  Use of the logistic function as an activation function (and other activation functions we'll learn about in class) addresses these liabilities.  Consider the following data, targets and neuron architecture.\n",
    "\n",
    "![neuron_3inputs](images/neuron_3inputs.png)\n",
    "\n",
    "This is the same neuron and data analyzed in Part 1 of [A Neural Network in 11 lines of Python](https://iamtrask.github.io/2015/07/12/basic-python-network/).  Note that there are four rows of data, and four predictions that are classes 1 and 0.  Additionally, the column $x_0$ is the bias column (the column where all values are 1 so that weight $w_0$ can represent the intercept).\n",
    "\n",
    "The activation function $\\phi$ is the standard logistic function, often referred to as the [sigmoid function](https://en.wikipedia.org/wiki/Sigmoid_function).  It has the property of taking continuously valued input and mapping it to a 0-1 range, just as it did in logistic regression.\n",
    "\n",
    "In this neuron:\n",
    "\n",
    "$$\n",
    "y_p = \\phi(w^{T}X)\n",
    "$$\n",
    "$$\n",
    "\\phi(x) = \\frac{1}{1 + e^{-x}}\n",
    "$$"
   ]
  },
  {
   "cell_type": "markdown",
   "metadata": {},
   "source": [
    "#### Question 6:  Say that we are training on the 2nd row of data ($x_0$, $x_1$, $x_2$ = 1, 1, 1 and $y_t$ = 1) and that our weights were $w_0$, $w_1$, $w_2$ = -0.5, 2, 1.  What would $y_p$ be in this feed forward calculation?  Do not threshold $y_p$ to 0 or 1, maintain its fractional value as calculated by the sigmoid function.  And what is the error in the prediction of this data point?"
   ]
  },
  {
   "cell_type": "code",
   "execution_count": null,
   "metadata": {
    "collapsed": true
   },
   "outputs": [],
   "source": []
  },
  {
   "cell_type": "markdown",
   "metadata": {},
   "source": [
    "#### Question 7:  To correct the error the weights must be updated using back propogation, just as in the linear case.  However, now the activation function has a more complicated derivative than the linear case.  What are the equations now to update the weights?\n",
    "\n",
    "$$\n",
    "\\Delta w_0 =\n",
    "$$\n",
    "\n",
    "$$\n",
    "\\Delta w_1 =\n",
    "$$\n",
    "\n",
    "$$\n",
    "\\Delta w_2 =\n",
    "$$\n",
    "\n",
    "Hint:  here's a start to the derivations:\n",
    "\n",
    "To simplify derivation and not deal with vector quantities, will only look at one weight $w$ and its corresponding x value $x$.\n",
    "\n",
    "$$\n",
    "\\Delta w = - \\alpha \\frac{\\partial E}{\\partial w}\n",
    "$$\n",
    "\n",
    "$$\n",
    "\\frac{\\partial E}{\\partial w} = \\frac{\\partial E}{\\partial \\phi} \\frac{\\partial \\phi}{\\partial w}\n",
    "$$\n",
    "\n",
    "Let's work on the first quantity, $\\frac{\\partial E}{\\partial \\phi}$\n",
    "\n",
    "$$\n",
    "E = \\frac{1}{2}(y_{train} - y_p)^2\n",
    "$$\n",
    "\n",
    "$$\n",
    "y_p = \\phi(wx)\n",
    "$$\n",
    "\n",
    "...  \n",
    "...\n",
    "\n",
    "Now the second quantity, $\\frac{\\partial \\phi}{\\partial w}$\n",
    "\n",
    "$$\n",
    "\\phi(wx) = \\frac{1}{1 + e^{-wx}}\n",
    "$$\n",
    "\n",
    "[Derivative of sigmoid](http://www.ai.mit.edu/courses/6.892/lecture8-html/sld015.htm), and substituting $q$ for $x$ so as to keep it different from the $x$ in our derivation:\n",
    "\n",
    "$$\n",
    "\\frac{\\partial \\phi}{\\partial q} = q \\cdot (1-q)\n",
    "$$\n",
    "\n",
    "setting $q = wx$, and then using the chain rule:\n",
    "\n",
    "...  \n",
    "...\n",
    "\n",
    "Now putting it all together:\n",
    "...  \n",
    "..."
   ]
  },
  {
   "cell_type": "code",
   "execution_count": null,
   "metadata": {
    "collapsed": true
   },
   "outputs": [],
   "source": []
  },
  {
   "cell_type": "markdown",
   "metadata": {},
   "source": [
    "#### Question 8:  Implement and try to understand the code of the \"2-Layer Network\" presented in the \"Neural Network in 11 lines of Python\" reference.   You should be able to converge on weights that perfectly fit the training data."
   ]
  },
  {
   "cell_type": "code",
   "execution_count": null,
   "metadata": {
    "collapsed": true
   },
   "outputs": [],
   "source": []
  },
  {
   "cell_type": "markdown",
   "metadata": {},
   "source": [
    "Let's see if this neuron can learn another logical function, the exclusive or (XOR).  Subsitute this X and y array into your 2-layer network and see if it converges.\n",
    "\n",
    "![XOR_data](images/XOR_data.png)"
   ]
  },
  {
   "cell_type": "markdown",
   "metadata": {},
   "source": [
    "#### Question 9:  Unless you did something, it shouldn't converge.  In fact, it's impossible that it converged.  Why is that?  (May have to do some reading on this one.)"
   ]
  },
  {
   "cell_type": "code",
   "execution_count": null,
   "metadata": {
    "collapsed": true
   },
   "outputs": [],
   "source": []
  },
  {
   "cell_type": "markdown",
   "metadata": {},
   "source": [
    "Ok, you've been playing around with *one* neuron this entire time, and only a 2-layer network (input layer, output layer).  How about a neural network?  How about Deep Learning (a.k.a multiple layers in between the input and output layers, called hidden layers, that are comprised of 10s to 1000s of neurons)?  \n",
    "\n",
    "In between layers, each neuron is most often *fully connected* to all the neurons in the following layer.  For instance, the picture below is of a one hidden layer network with 2 input nodes, 3 hidden layer nodes, and one output node.  All the layers are fully connected (in Keras known as Dense).  You'll notice that six weights are needed between the input and hidden layer, and 3 weights are needed to connect the hidden layer to the output layer.\n",
    "\n",
    "![fully_connected](images/fully_connected.png)\n",
    "\n",
    "To solve the XOR problem you'll need a **neural network with hidden layers**.\n",
    "\n"
   ]
  },
  {
   "cell_type": "markdown",
   "metadata": {},
   "source": [
    "### Optional\n",
    "#### Question 10:  In `neural_network_hw.py` write a 3 layer (input-hidden-output) neural network to solve the XOR problem.  In the interest of time I suggest that you use the \"3-Layer Neural Network\" code presented in \"A Neural Network in 11 lines of Python.\"  But make this code your own - rename variables to make sense (syn?), code additional functions if necessary (maybe a class?), and provide detailed comments on each line about what it's doing.  You might as well put in an if-name-main block, too!  If you came into a job interview and someone asked you how you would code a neural network from scratch, this is what you could desribe to them.  Additionally, the architecture used by the author is not ideal (it can be simpler) AND it's missing one VERY important hyperparameter associated with model convergence, AND the math for the derivative is wrong (though the code still works).  So fix it!  Let this be a lesson not to trust even very good sample code (and a very nice reference) on the web."
   ]
  },
  {
   "cell_type": "code",
   "execution_count": null,
   "metadata": {
    "collapsed": true
   },
   "outputs": [],
   "source": []
  }
 ],
 "metadata": {
  "anaconda-cloud": {},
  "kernelspec": {
   "display_name": "Python 3",
   "language": "python",
   "name": "python3"
  },
  "language_info": {
   "codemirror_mode": {
    "name": "ipython",
    "version": 3
   },
   "file_extension": ".py",
   "mimetype": "text/x-python",
   "name": "python",
   "nbconvert_exporter": "python",
   "pygments_lexer": "ipython3",
   "version": "3.6.0"
  }
 },
 "nbformat": 4,
 "nbformat_minor": 1
}

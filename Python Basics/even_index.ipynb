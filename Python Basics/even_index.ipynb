def find_even_index(arr):
    if len(arr) > 0:
        print "Finding index from array %r of lenght %r\n" % (arr, len(arr))
        current_index = 0
        while current_index < len(arr):
            left_values = arr[0:current_index]
            right_values = arr[current_index+1:len(arr)]
            #print "Testing values %r against %r. \n The sums are %r and %r" % (left_values, right_values, sum(left_values), sum(right_values))
            if sum(left_values) == sum(right_values):
                print "Match found at index %r \n" % current_index
                return current_index
            else:
                current_index = current_index + 1
            #If we get here, no match at all
        return -1
    else:
        return 0

print find_even_index([1, 2, 3])
print find_even_index([1,2,3,4,3,2,1])
print find_even_index([1,100,50,-51,1,1])
print find_even_index([1,2,3,4,5,6])
print find_even_index([20,10,-80,10,10,15,35])
print find_even_index([10,-80,10,10,15,35,20])
print find_even_index([])
